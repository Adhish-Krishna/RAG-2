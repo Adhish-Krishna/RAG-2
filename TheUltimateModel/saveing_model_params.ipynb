{
 "cells": [
  {
   "cell_type": "code",
   "execution_count": 11,
   "metadata": {},
   "outputs": [],
   "source": [
    "import os\n",
    "import pickle\n",
    "import numpy as np\n",
    "import faiss\n",
    "from sentence_transformers import SentenceTransformer\n",
    "\n",
    "from semantic_chunkers import StatisticalChunker\n",
    "from langchain_community.llms import Ollama"
   ]
  },
  {
   "cell_type": "code",
   "execution_count": 12,
   "metadata": {},
   "outputs": [],
   "source": [
    "CHUNK_OP_DIRECTORY_TXT = \".\\\\output\\\\chunks\"\n",
    "FILE_PATH = \".\\output\\\\text\\\\Metamorphosis by Franz Kafka.txt\"\n",
    "\n",
    "\n",
    "TEXT_FILE_NAME = os.path.splitext(os.path.basename(FILE_PATH))[0]\n"
   ]
  },
  {
   "cell_type": "code",
   "execution_count": 13,
   "metadata": {},
   "outputs": [],
   "source": [
    "faiss_index_path = f'model_embeddings/{TEXT_FILE_NAME}_faiss.index'\n",
    "vector_db_path =f'model_embeddings/{TEXT_FILE_NAME}_embeddings.pkl'\n",
    "\n",
    "\n",
    "def load_text_chunks_from_folder(folder_path):\n",
    "    text_chunks = []\n",
    "    for filename in os.listdir(folder_path):\n",
    "        file_path = os.path.join(folder_path, filename)\n",
    "        if os.path.isfile(file_path):\n",
    "            with open(file_path, 'r', encoding='utf-8') as file:\n",
    "                text_chunks.append(file.read())\n",
    "\n",
    "    print(\"TEXT LOADED SUCCESSFULLY\")\n",
    "\n",
    "    return text_chunks\n",
    "\n",
    "\n",
    "def embed_text_chunks(text_chunks, model):\n",
    "\n",
    "    return model.encode(text_chunks)\n",
    "\n",
    "\n",
    "def save_embeddings(embeddings, text_chunks, path):\n",
    "    with open(path, 'wb') as file:\n",
    "        pickle.dump((text_chunks, embeddings), file)\n",
    "\n",
    "\n",
    "\n",
    "\n",
    "def build_faiss_index(embeddings):\n",
    "    dim = embeddings.shape[1]  \n",
    "    index = faiss.IndexFlatL2(dim)  \n",
    "    index.add(embeddings)  \n",
    "    print(\"FAISS BUILT  SUCCESSFULLY\")\n",
    "\n",
    "    return index\n",
    "\n",
    "\n",
    "\n",
    "\n",
    "\n",
    "\n",
    "\n",
    "\n",
    "\n",
    "def saving_the_model(CHUNK_OP_DIRECTORY_TXT):\n",
    "    text_chunks = load_text_chunks_from_folder(CHUNK_OP_DIRECTORY_TXT)\n",
    "    embeddings = embed_text_chunks(text_chunks, embedding_model)\n",
    "    save_embeddings(embeddings, text_chunks, vector_db_path)\n",
    "\n",
    "    faiss_index = build_faiss_index(embeddings)\n",
    "\n",
    "    faiss.write_index(faiss_index, faiss_index_path)\n",
    "    print(\"EMBEDDINGS SAVED SUCCESSFULLY\")\n"
   ]
  },
  {
   "cell_type": "code",
   "execution_count": 14,
   "metadata": {},
   "outputs": [
    {
     "name": "stdout",
     "output_type": "stream",
     "text": [
      "TEXT LOADED SUCCESSFULLY\n",
      "FAISS BUILT  SUCCESSFULLY\n",
      "EMBEDDINGS SAVED SUCCESSFULLY\n"
     ]
    }
   ],
   "source": [
    "saving_the_model(CHUNK_OP_DIRECTORY_TXT)"
   ]
  },
  {
   "cell_type": "code",
   "execution_count": 1,
   "metadata": {},
   "outputs": [
    {
     "name": "stdout",
     "output_type": "stream",
     "text": [
      "Converted chunking.ipynb to chunking.py\n",
      "Converted pdf_scanners.ipynb to pdf_scanners.py\n",
      "Converted querying_from_the_model.ipynb to querying_from_the_model.py\n",
      "Converted saveing_model_params.ipynb to saveing_model_params.py\n"
     ]
    }
   ],
   "source": [
    "import os\n",
    "from nbconvert import PythonExporter\n",
    "import nbformat\n",
    "\n",
    "def convert_ipynb_to_py(directory):\n",
    "    # Iterate through all files in the directory\n",
    "    for filename in os.listdir(directory):\n",
    "        # Check if the file is a Jupyter notebook\n",
    "        if filename.endswith('.ipynb'):\n",
    "            ipynb_path = os.path.join(directory, filename)\n",
    "            py_path = os.path.join(directory, os.path.splitext(filename)[0] + '.py')\n",
    "            \n",
    "            # Read the notebook content\n",
    "            with open(ipynb_path, 'r', encoding='utf-8') as f:\n",
    "                notebook = nbformat.read(f, as_version=4)\n",
    "            \n",
    "            # Convert notebook to Python script\n",
    "            exporter = PythonExporter()\n",
    "            script, _ = exporter.from_notebook_node(notebook)\n",
    "            \n",
    "            # Save the Python script\n",
    "            with open(py_path, 'w', encoding='utf-8') as f:\n",
    "                f.write(script)\n",
    "\n",
    "            print(f\"Converted {filename} to {os.path.basename(py_path)}\")\n",
    "\n",
    "# Usage\n",
    "directory_path = \"./\"  # Change this to your directory path\n",
    "convert_ipynb_to_py(directory_path)\n"
   ]
  },
  {
   "cell_type": "code",
   "execution_count": null,
   "metadata": {},
   "outputs": [],
   "source": []
  }
 ],
 "metadata": {
  "kernelspec": {
   "display_name": "RAG",
   "language": "python",
   "name": "python3"
  },
  "language_info": {
   "codemirror_mode": {
    "name": "ipython",
    "version": 3
   },
   "file_extension": ".py",
   "mimetype": "text/x-python",
   "name": "python",
   "nbconvert_exporter": "python",
   "pygments_lexer": "ipython3",
   "version": "3.9.19"
  }
 },
 "nbformat": 4,
 "nbformat_minor": 2
}
