{
 "cells": [
  {
   "cell_type": "code",
   "execution_count": 17,
   "metadata": {},
   "outputs": [],
   "source": [
    "import os\n",
    "import pickle\n",
    "import numpy as np\n",
    "import faiss\n",
    "from sentence_transformers import SentenceTransformer\n",
    "from langchain_community.llms import Ollama\n",
    "from semantic_chunkers import StatisticalChunker\n"
   ]
  },
  {
   "cell_type": "code",
   "execution_count": 18,
   "metadata": {},
   "outputs": [
    {
     "name": "stderr",
     "output_type": "stream",
     "text": [
      "c:\\Users\\SURYA\\anaconda3\\envs\\RAG\\lib\\site-packages\\transformers\\tokenization_utils_base.py:1601: FutureWarning: `clean_up_tokenization_spaces` was not set. It will be set to `True` by default. This behavior will be depracted in transformers v4.45, and will be then set to `False` by default. For more details check this issue: https://github.com/huggingface/transformers/issues/31884\n",
      "  warnings.warn(\n"
     ]
    }
   ],
   "source": [
    "embedding_model = SentenceTransformer('sentence-transformers/all-MiniLM-L6-v2')\n"
   ]
  },
  {
   "cell_type": "code",
   "execution_count": 19,
   "metadata": {},
   "outputs": [],
   "source": [
    "embedding_model = SentenceTransformer('sentence-transformers/all-MiniLM-L6-v2')\n",
    "MODEL = \"mistral\"  \n",
    "model = Ollama(model=MODEL)\n"
   ]
  },
  {
   "cell_type": "code",
   "execution_count": 20,
   "metadata": {},
   "outputs": [
    {
     "data": {
      "text/plain": [
       "'.\\\\model_embeddings\\\\Metamorphosis by Franz Kafka_faiss.index'"
      ]
     },
     "execution_count": 20,
     "metadata": {},
     "output_type": "execute_result"
    }
   ],
   "source": [
    "CHUNK_OP_DIRECTORY_TXT = \".\\\\output\\\\chunks\"\n",
    "FILE_PATH = \".\\output\\\\text\\\\Metamorphosis by Franz Kafka.txt\"\n",
    "\n",
    "\n",
    "TEXT_FILE_NAME = os.path.splitext(os.path.basename(FILE_PATH))[0]\n",
    "EMBEDDINGS_PATH  =f\".\\model_embeddings\\{TEXT_FILE_NAME}_embeddings.pkl\"\n",
    "\n",
    "FAISS_INDEX  =f\".\\model_embeddings\\{TEXT_FILE_NAME}_faiss.index\"\n",
    "FAISS_INDEX\n"
   ]
  },
  {
   "cell_type": "code",
   "execution_count": 33,
   "metadata": {},
   "outputs": [],
   "source": [
    "\n",
    "def format_output(context, question):\n",
    "    \"\"\"\n",
    "    Use Mistral model to generate formatted output.\n",
    "    \"\"\"\n",
    "    template = f\"\"\"\n",
    "    >>> POINTS TO REMEMBER BEFORE GENERATING THE OUTPUT\n",
    "        CONSIDER YOU ARE A CHATBOT WITH NO KNOWLEDGE.\n",
    "        YOU WILL GAIN KNOWLEDGE ONLY WITH THE INFORMATION/CONTEXT I GIVE YOU.\n",
    "        DON'T TRY TO ANSWER OUTSIDE OF THE INFORMATION I GIVE YOU.\n",
    "        GENERATE THE OUTPUTS IN A STRUCTURED MANNER.\n",
    "        IF THE ANSWER TO THE QUESTION IS OUT OF THE CONTEXT, THEN RETURN THAT \"THE CONTEXT IS OUT OF THE KNOWLWDGE. NO RELEVANT INFORMATION FOUND\"\n",
    "\n",
    "    >>> INFORMATION/CONTEXT : {context}\n",
    "    >>> QUERY : {question}\n",
    "\n",
    "    \n",
    "    \n",
    "\n",
    "    \n",
    "    \"\"\"\n",
    "    \n",
    "\n",
    "    prompt_text = template.format(context=context, question=question)\n",
    "\n",
    "    response = model(prompt_text)\n",
    "    return response\n",
    "\n",
    "def search_faiss(query, index, model, k=5):\n",
    "    query_embedding = model.encode([query])\n",
    "    D, I = index.search(np.array(query_embedding), k)  \n",
    "    return I[0]  \n",
    "\n",
    "def retrieve_and_format_results(query, index, text_chunks, model):\n",
    "    indices = search_faiss(query, index, model)\n",
    "    \n",
    "    if not indices.size:\n",
    "        return \"No relevant information found.\"\n",
    "\n",
    "    valid_indices = [i for i in indices if 0 <= i < len(text_chunks)]\n",
    "    results = \" \".join([text_chunks[i] for i in valid_indices]) \n",
    "    print(f\"\\n---------------------------------------------------------------\\{results}---------------------------------------------\")\n",
    "    formatted_results = format_output(results ,query)\n",
    "    return formatted_results\n",
    "\n",
    "\n"
   ]
  },
  {
   "cell_type": "code",
   "execution_count": 34,
   "metadata": {},
   "outputs": [],
   "source": [
    "def load_embeddings(path):\n",
    "    with open(path, 'rb') as file:\n",
    "        return pickle.load(file)"
   ]
  },
  {
   "cell_type": "code",
   "execution_count": 35,
   "metadata": {},
   "outputs": [],
   "source": [
    "text_chunks, embeddings = load_embeddings(EMBEDDINGS_PATH)\n",
    "\n",
    "def build_faiss_index(embeddings):\n",
    "    dim = embeddings.shape[1]  # Dimension of embeddings\n",
    "    index = faiss.IndexFlatL2(dim)  # L2 distance index\n",
    "    index.add(embeddings)  # Add embeddings to index\n",
    "    return index\n",
    "faiss_index = build_faiss_index(embeddings)\n",
    "\n"
   ]
  },
  {
   "cell_type": "code",
   "execution_count": 38,
   "metadata": {},
   "outputs": [
    {
     "name": "stdout",
     "output_type": "stream",
     "text": [
      "\n",
      "---------------------------------------------------------------\\['metamorphosi franz kafka project gutenberg ebook metamorphosi franz kafka translat david wylli ebook use anyon anywher cost almost restrict whatsoev may copi give away term project gutenberg licens includ ebook onlin copyright project gutenberg ebook detail ae pleas follow copyright guidelin file titl metamorphosi author franz kafka translat david wylli releas date august 16 2005 ebook 5200 first post may 13 2002 last updat may 20 2012 languag english charact set encod start project gutenberg ebook metamorphosi copyright c 2002 david wylli metamorphosi franz kafka translat david wylli one morn gregor samsa woke troubl dream found transform bed horribl vermm lay back ifh lift head littl could see brown belli slightli dome divid arch stiff section bed hardli abl cover seem readi slide offani moment mani leg piti thin compar size rest wave helplessli look 1134'] ['metamorphosi franz kafka approach us offer donat intern donat grate accept make statement concern tax treatment donat receiv outsid unit state law alon swamp small staff pleas check project gutenberg web page current donat method address donat accept number way includ includ check onlin payment credit card donat donat pleas visit http section 5 gener inform project electron work professor michael hart origin project concept librari electron work could freeli share anyon thirti year produc distribut project ebook loos network volunt support project ebook often creat sever print edit confirm public domain unless copyright notic includ thu necessarili keep ebook complianc particular paper edit peopl start web site main pg search facil http web site includ inform project includ make donat project gutenberg literari archiv foundat help produc new ebook subscrib email newslett hear new ebook'] ['metamorphosi franz kafka almost simultan thought daughter blossom well built beautifil young ladi becam quieter glanc almost without know agre would soon time find good man ifin confirm new dream good intent soon reach destin grete first get stretch young bodi end project gutenberg ebook metamorphosi franz kafka translat david wylli x end project gutenberg ebook metamorphosi efex eil name htm associ file variou format found http updat edit replac previou one old edit renam creat work public domain print edit mean one own unit state copyright work foundat copi distribut unit state without permiss without pay copyright royalti special rule set forth gener term use part licens appli copi distribut project electron work protect project concept trademark project gutenberg regist trademark may use charg ebook unless receiv specif permiss charg anyth copi ebook compli rule easi may use ebook nearli purpos creation deriv work report perform research may modifi print given away may practic anyth public domain ebook redistribut subject trademark licens especi commerci redistribut start full licens full project gutenberg licens pleas read distribut use work protect project mission promot free distribut electron work use distribut work work associ way phrase project gutenberg agre compli term full project licens avail file onlin http'] ['metamorphosi franz kafka follow sentenc activ link immedi access full project licens must appear promin whenev copi project work work phrase project gutenberg appear phrase project gutenberg associ access display perform view copi distribut ebook use anyon anywher cost almost restrict whatsoev may copi give away term project gutenberg licens includ ebook onlin individu project electron work deriv public domain contain notic indic post permiss copyright holder work copi distribut anyon unit state without pay fee charg redistribut provid access work phrase project gutenberg associ appear work must compli either requir paragraph obtain permiss use work project trademark set forth paragraph 1 individu project electron work post permiss copyright holder use distribut must compli paragraph addit term impos copyright holder addit term link project licens work post permiss copyright holder found begin work unlink detach remov full project licens term work file contain part work work associ project copi display perform distribut redistribut electron work part electron work without promin display sentenc set forth paragraph activ link immedi access full term project licens may convert distribut work binari compress mark nonproprietari proprietari form includ word process hypertext form howev provid access distribut copi project work format plain vanilla ascii format use offici version post offici project web site must addit cost fee expens user provid copi mean export copi mean obtain copi upon request work origin plain vanilla ascii form altern format must includ full project licens specifi paragraph charg fee access view display perform copi distribut project work unless compli paragraph may charg reason fee copi provid'] ['metamorphosi franz kafka goal ensur project collect remain freeli avail gener come 2001 project gutenberg literari archiv foundat creat provid secur perman futur project futur gener learn project gutenberg literari archiv foundat effort donat help see section 3 4 foundat web page http section 3 inform project gutenberg literari archiv foundat project gutenberg literari archiv foundat non profit 501 c 3 educ corpor organ law state mississippi grant tax exempt statu intern revenu servic foundat ein feder tax identif number 501 c 3 letter post http contribut project gutenberg literari archiv foundat tax deduct full extent permit feder law state law foundat princip offic locat 4557 melan fairbank ak volunt employe scatter throughout numer locat busi offic locat 809 north 1500 west salt lake citi ut 84116 801 email busi email contact link date contact inform found foundat web site offici page http addit contact inform gregori newbi chief execut director gbnewbi section 4 inform donat project gutenberg literari archiv foundat project depend upon surviv without wide spread public support donat carri mission increas number public domain licens work freeli distribut machin readabl form access widest array equip includ outdat equip mani small donat 1 particularli import maintain tax exempt statu ir foundat commit compli law regul chariti charit donat 50 state unit state complianc requir uniform take consider effort much paperwork mani fee meet keep requir solicit donat locat receiv written confirm complianc send donat determin statu complianc particular state visit http solicit contribut state met solicit requir know prohibit accept unsolicit donat donor state']---------------------------------------------\n",
      "RAG :(\n",
      "\n",
      " The author of the book is Franz Kafka. The title of this specific ebook is \"Metamorphosis,\" and it was translated by David Wyllie. The ebook can be found online at Project Gutenberg, with a release date of August 16, 2005. It was first posted on May 13, 2002, and the latest update was made on May 20, 2012. The language is English, and the characters are encoded using a start Project Gutenberg ebook, which includes a copyright notice: © 2002 David Wyllie.\n"
     ]
    }
   ],
   "source": [
    "\n",
    "query = \"WHO AUTHOR THIS BOOK\" \n",
    "formatted_results = retrieve_and_format_results(query, faiss_index, text_chunks, embedding_model)\n",
    "print(\"RAG :(\\n\")\n",
    "print(formatted_results)\n"
   ]
  },
  {
   "cell_type": "code",
   "execution_count": null,
   "metadata": {},
   "outputs": [],
   "source": []
  }
 ],
 "metadata": {
  "kernelspec": {
   "display_name": "RAG",
   "language": "python",
   "name": "python3"
  },
  "language_info": {
   "codemirror_mode": {
    "name": "ipython",
    "version": 3
   },
   "file_extension": ".py",
   "mimetype": "text/x-python",
   "name": "python",
   "nbconvert_exporter": "python",
   "pygments_lexer": "ipython3",
   "version": "3.9.19"
  }
 },
 "nbformat": 4,
 "nbformat_minor": 2
}
