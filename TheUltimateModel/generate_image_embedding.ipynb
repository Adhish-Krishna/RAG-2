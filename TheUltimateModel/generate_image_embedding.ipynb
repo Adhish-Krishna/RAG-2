{
 "cells": [
  {
   "cell_type": "code",
   "execution_count": 1,
   "metadata": {},
   "outputs": [
    {
     "name": "stderr",
     "output_type": "stream",
     "text": [
      "c:\\Users\\SURYA\\anaconda3\\envs\\RAG\\lib\\site-packages\\torch\\nn\\modules\\activation.py:1230: UserWarning: 1Torch was not compiled with flash attention. (Triggered internally at C:\\actions-runner\\_work\\pytorch\\pytorch\\builder\\windows\\pytorch\\aten\\src\\ATen\\native\\transformers\\cuda\\sdp_utils.cpp:555.)\n",
      "  return torch._native_multi_head_attention(\n"
     ]
    },
    {
     "ename": "KeyboardInterrupt",
     "evalue": "",
     "output_type": "error",
     "traceback": [
      "\u001b[1;31m---------------------------------------------------------------------------\u001b[0m",
      "\u001b[1;31mKeyboardInterrupt\u001b[0m                         Traceback (most recent call last)",
      "Cell \u001b[1;32mIn[1], line 38\u001b[0m\n\u001b[0;32m     35\u001b[0m     \u001b[38;5;28;01mreturn\u001b[39;00m embeddings\n\u001b[0;32m     37\u001b[0m \u001b[38;5;66;03m# Compute and store embeddings\u001b[39;00m\n\u001b[1;32m---> 38\u001b[0m image_embeddings \u001b[38;5;241m=\u001b[39m \u001b[43mcompute_image_embeddings\u001b[49m\u001b[43m(\u001b[49m\u001b[43mimage_folder\u001b[49m\u001b[43m,\u001b[49m\u001b[43m \u001b[49m\u001b[43mmodel\u001b[49m\u001b[43m,\u001b[49m\u001b[43m \u001b[49m\u001b[43mtransform\u001b[49m\u001b[43m,\u001b[49m\u001b[43m \u001b[49m\u001b[43mdevice\u001b[49m\u001b[43m)\u001b[49m\n\u001b[0;32m     40\u001b[0m \u001b[38;5;66;03m# Save embeddings to a file\u001b[39;00m\n\u001b[0;32m     41\u001b[0m \u001b[38;5;28;01mwith\u001b[39;00m \u001b[38;5;28mopen\u001b[39m(embeddings_file, \u001b[38;5;124m'\u001b[39m\u001b[38;5;124mwb\u001b[39m\u001b[38;5;124m'\u001b[39m) \u001b[38;5;28;01mas\u001b[39;00m f:\n",
      "Cell \u001b[1;32mIn[1], line 34\u001b[0m, in \u001b[0;36mcompute_image_embeddings\u001b[1;34m(image_folder, model, transform, device)\u001b[0m\n\u001b[0;32m     32\u001b[0m         feature \u001b[38;5;241m=\u001b[39m model\u001b[38;5;241m.\u001b[39mencode_image(image_tensor)\n\u001b[0;32m     33\u001b[0m         feature \u001b[38;5;241m/\u001b[39m\u001b[38;5;241m=\u001b[39m feature\u001b[38;5;241m.\u001b[39mnorm(dim\u001b[38;5;241m=\u001b[39m\u001b[38;5;241m-\u001b[39m\u001b[38;5;241m1\u001b[39m, keepdim\u001b[38;5;241m=\u001b[39m\u001b[38;5;28;01mTrue\u001b[39;00m)  \u001b[38;5;66;03m# Normalize\u001b[39;00m\n\u001b[1;32m---> 34\u001b[0m         embeddings[img_name] \u001b[38;5;241m=\u001b[39m \u001b[43mfeature\u001b[49m\u001b[38;5;241;43m.\u001b[39;49m\u001b[43mcpu\u001b[49m\u001b[43m(\u001b[49m\u001b[43m)\u001b[49m\u001b[38;5;241m.\u001b[39mnumpy()\u001b[38;5;241m.\u001b[39mflatten()  \u001b[38;5;66;03m# Flatten for storage\u001b[39;00m\n\u001b[0;32m     35\u001b[0m \u001b[38;5;28;01mreturn\u001b[39;00m embeddings\n",
      "\u001b[1;31mKeyboardInterrupt\u001b[0m: "
     ]
    }
   ],
   "source": [
    "import os\n",
    "import torch\n",
    "import open_clip\n",
    "from PIL import Image\n",
    "from torchvision import transforms\n",
    "import numpy as np\n",
    "import pickle\n",
    "\n",
    "model  , _ , preprocess = open_clip.create_model_and_transforms(\"ViT-L-14-336\", pretrained=\"openai\")\n",
    "tokenizer = open_clip.get_tokenizer('ViT-L-14-336')\n",
    "model.eval()\n",
    "device = \"cuda\" if torch.cuda.is_available() else \"cpu\"\n",
    "model.to(device)\n",
    "\n",
    "image_folder = \"..\\output\\images\"\n",
    "embeddings_file = \"..\\model_embeddings\\image_embeddings.pkl\"\n",
    "\n",
    "transform = preprocess\n",
    "\n",
    "def compute_image_embeddings(image_folder, model, transform, device):\n",
    "    embeddings = {}\n",
    "    for img_name in os.listdir(image_folder):\n",
    "        img_path = os.path.join(image_folder, img_name)\n",
    "        image = Image.open(img_path).convert(\"RGB\")\n",
    "        image_tensor = transform(image).unsqueeze(0).to(device)\n",
    "        \n",
    "        with torch.no_grad():\n",
    "            feature = model.encode_image(image_tensor)\n",
    "            feature /= feature.norm(dim=-1, keepdim=True) \n",
    "            embeddings[img_name] = feature.cpu().numpy().flatten()  \n",
    "    return embeddings\n",
    "\n",
    "image_embeddings = compute_image_embeddings(image_folder, model, transform, device)\n",
    "\n",
    "with open(embeddings_file, 'wb') as f:\n",
    "    pickle.dump(image_embeddings, f)\n",
    "\n",
    "print(f\"Embeddings saved to {embeddings_file}\")\n"
   ]
  },
  {
   "cell_type": "code",
   "execution_count": null,
   "metadata": {},
   "outputs": [],
   "source": []
  }
 ],
 "metadata": {
  "kernelspec": {
   "display_name": "RAG",
   "language": "python",
   "name": "python3"
  },
  "language_info": {
   "codemirror_mode": {
    "name": "ipython",
    "version": 3
   },
   "file_extension": ".py",
   "mimetype": "text/x-python",
   "name": "python",
   "nbconvert_exporter": "python",
   "pygments_lexer": "ipython3",
   "version": "3.9.19"
  }
 },
 "nbformat": 4,
 "nbformat_minor": 2
}
