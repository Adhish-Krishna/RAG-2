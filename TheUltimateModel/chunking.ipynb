{
 "cells": [
  {
   "cell_type": "code",
   "execution_count": 31,
   "metadata": {},
   "outputs": [],
   "source": [
    "import os\n",
    "import pickle\n",
    "import numpy as np\n",
    "import faiss\n",
    "from sentence_transformers import SentenceTransformer\n",
    "\n",
    "from semantic_chunkers import StatisticalChunker\n",
    "from semantic_router.encoders import HuggingFaceEncoder\n",
    "\n"
   ]
  },
  {
   "cell_type": "code",
   "execution_count": 59,
   "metadata": {},
   "outputs": [
    {
     "data": {
      "text/plain": [
       "'Metamorphosis by Franz Kafka'"
      ]
     },
     "execution_count": 59,
     "metadata": {},
     "output_type": "execute_result"
    }
   ],
   "source": [
    "CHUNK_OP_DIRECTORY_TXT = \".\\\\output\\\\chunks\"\n",
    "FILE_PATH = \".\\output\\\\text\\\\Metamorphosis by Franz Kafka.txt\"\n",
    "\n",
    "\n",
    "TEXT_FILE_NAME = os.path.splitext(os.path.basename(FILE_PATH))[0]\n"
   ]
  },
  {
   "cell_type": "code",
   "execution_count": 60,
   "metadata": {},
   "outputs": [
    {
     "name": "stderr",
     "output_type": "stream",
     "text": [
      "c:\\Users\\SURYA\\anaconda3\\envs\\RAG\\lib\\site-packages\\transformers\\tokenization_utils_base.py:1601: FutureWarning: `clean_up_tokenization_spaces` was not set. It will be set to `True` by default. This behavior will be depracted in transformers v4.45, and will be then set to `False` by default. For more details check this issue: https://github.com/huggingface/transformers/issues/31884\n",
      "  warnings.warn(\n"
     ]
    }
   ],
   "source": [
    "embedding_model = SentenceTransformer('sentence-transformers/all-MiniLM-L6-v2')\n"
   ]
  },
  {
   "cell_type": "code",
   "execution_count": 35,
   "metadata": {},
   "outputs": [
    {
     "name": "stderr",
     "output_type": "stream",
     "text": [
      "c:\\Users\\SURYA\\anaconda3\\envs\\RAG\\lib\\site-packages\\transformers\\tokenization_utils_base.py:1601: FutureWarning: `clean_up_tokenization_spaces` was not set. It will be set to `True` by default. This behavior will be depracted in transformers v4.45, and will be then set to `False` by default. For more details check this issue: https://github.com/huggingface/transformers/issues/31884\n",
      "  warnings.warn(\n"
     ]
    }
   ],
   "source": [
    "embedding_model_chunks =HuggingFaceEncoder()\n",
    "chunker= StatisticalChunker(encoder=embedding_model_chunks)\n"
   ]
  },
  {
   "cell_type": "code",
   "execution_count": 52,
   "metadata": {},
   "outputs": [],
   "source": [
    "def read_entire_txt_file(FILE_PATH):\n",
    "\n",
    "    \n",
    "    with open(FILE_PATH , 'r') as f:\n",
    "        text = f.read()\n",
    "        f.close()\n",
    "    print(\"TEXT READ SUCCESSFUL\")\n",
    "    return text\n",
    "\n"
   ]
  },
  {
   "cell_type": "code",
   "execution_count": 53,
   "metadata": {},
   "outputs": [],
   "source": [
    "def chunk_and_save_as_txt(text):\n",
    "\n",
    "    chunks= chunker([text])\n",
    "    splits = [chunk.splits for sublist in chunks for chunk in sublist]\n",
    "    for i , indv_chunk in enumerate(splits):\n",
    "        CHUNK_PATH = os.path.join(CHUNK_OP_DIRECTORY_TXT , f\"chunk_{i+1}\")\n",
    "        with open(CHUNK_PATH , 'w') as f:\n",
    "            f.write(str(indv_chunk))\n",
    "            f.close()\n",
    "    \n",
    "    print(\"CHUNK SAVE SUCCESSFUL\")\n",
    "    \n",
    "    \n",
    "\n",
    "        \n",
    "\n"
   ]
  },
  {
   "cell_type": "code",
   "execution_count": 54,
   "metadata": {},
   "outputs": [],
   "source": [
    "def generate_chunks(path):\n",
    "    text = read_entire_txt_file(path)\n",
    "\n",
    "    chunk_and_save_as_txt(text)\n",
    "    print(\"CHUNKS GENERATED SUCCESSFULLY\")\n",
    "    return"
   ]
  },
  {
   "cell_type": "code",
   "execution_count": 55,
   "metadata": {},
   "outputs": [
    {
     "name": "stderr",
     "output_type": "stream",
     "text": [
      "\u001b[32m2024-08-24 16:57:21 INFO semantic_chunkers.utils.logger Single document exceeds the maximum token limit of 300. Splitting to sentences before semantically merging.\u001b[0m\n"
     ]
    },
    {
     "name": "stdout",
     "output_type": "stream",
     "text": [
      "TEXT READ SUCCESSFUL\n"
     ]
    },
    {
     "data": {
      "application/vnd.jupyter.widget-view+json": {
       "model_id": "55b6da6be30b47b0817637a69c0f22ea",
       "version_major": 2,
       "version_minor": 0
      },
      "text/plain": [
       "  0%|          | 0/1 [00:00<?, ?it/s]"
      ]
     },
     "metadata": {},
     "output_type": "display_data"
    },
    {
     "name": "stdout",
     "output_type": "stream",
     "text": [
      "CHUNK SAVE SUCCESSFUL\n",
      "CHUNKS GENERATED SUCCESSFULLY\n"
     ]
    }
   ],
   "source": [
    "generate_chunks(FILE_PATH)"
   ]
  },
  {
   "cell_type": "code",
   "execution_count": 61,
   "metadata": {},
   "outputs": [],
   "source": []
  },
  {
   "cell_type": "code",
   "execution_count": null,
   "metadata": {},
   "outputs": [],
   "source": []
  }
 ],
 "metadata": {
  "kernelspec": {
   "display_name": "RAG",
   "language": "python",
   "name": "python3"
  },
  "language_info": {
   "codemirror_mode": {
    "name": "ipython",
    "version": 3
   },
   "file_extension": ".py",
   "mimetype": "text/x-python",
   "name": "python",
   "nbconvert_exporter": "python",
   "pygments_lexer": "ipython3",
   "version": "3.9.19"
  }
 },
 "nbformat": 4,
 "nbformat_minor": 2
}
